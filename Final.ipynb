{
 "cells": [
  {
   "cell_type": "code",
   "execution_count": 1,
   "id": "c8b1da67-22d6-4bc8-b0c4-5d68872de2d4",
   "metadata": {},
   "outputs": [],
   "source": [
    "# Step 1: Import the necessary libraries\n",
    "import pandas as pd\n",
    "import numpy as np\n",
    "from sklearn.model_selection import train_test_split\n",
    "from sklearn.linear_model import LinearRegression\n",
    "from sklearn.preprocessing import LabelEncoder\n",
    "import matplotlib.pyplot as plt"
   ]
  },
  {
   "cell_type": "code",
   "execution_count": 2,
   "id": "7011897d-61bf-463f-941a-f8b8ea38a65f",
   "metadata": {},
   "outputs": [
    {
     "data": {
      "text/html": [
       "<div>\n",
       "<style scoped>\n",
       "    .dataframe tbody tr th:only-of-type {\n",
       "        vertical-align: middle;\n",
       "    }\n",
       "\n",
       "    .dataframe tbody tr th {\n",
       "        vertical-align: top;\n",
       "    }\n",
       "\n",
       "    .dataframe thead th {\n",
       "        text-align: right;\n",
       "    }\n",
       "</style>\n",
       "<table border=\"1\" class=\"dataframe\">\n",
       "  <thead>\n",
       "    <tr style=\"text-align: right;\">\n",
       "      <th></th>\n",
       "      <th>time_of_day</th>\n",
       "      <th>temperature</th>\n",
       "      <th>humidity</th>\n",
       "      <th>SquareFootage</th>\n",
       "      <th>Occupancy</th>\n",
       "      <th>HVACUsage</th>\n",
       "      <th>LightingUsage</th>\n",
       "      <th>RenewableEnergy</th>\n",
       "      <th>DayOfWeek</th>\n",
       "      <th>Holiday</th>\n",
       "      <th>energy_usage</th>\n",
       "    </tr>\n",
       "  </thead>\n",
       "  <tbody>\n",
       "    <tr>\n",
       "      <th>0</th>\n",
       "      <td>1/1/2022 0:00</td>\n",
       "      <td>25.139433</td>\n",
       "      <td>43.431581</td>\n",
       "      <td>1565.693999</td>\n",
       "      <td>5</td>\n",
       "      <td>On</td>\n",
       "      <td>Off</td>\n",
       "      <td>2.774699</td>\n",
       "      <td>Monday</td>\n",
       "      <td>No</td>\n",
       "      <td>75.364373</td>\n",
       "    </tr>\n",
       "    <tr>\n",
       "      <th>1</th>\n",
       "      <td>1/1/2022 1:00</td>\n",
       "      <td>27.731651</td>\n",
       "      <td>54.225919</td>\n",
       "      <td>1411.064918</td>\n",
       "      <td>1</td>\n",
       "      <td>On</td>\n",
       "      <td>On</td>\n",
       "      <td>21.831384</td>\n",
       "      <td>Saturday</td>\n",
       "      <td>No</td>\n",
       "      <td>83.401855</td>\n",
       "    </tr>\n",
       "    <tr>\n",
       "      <th>2</th>\n",
       "      <td>1/1/2022 2:00</td>\n",
       "      <td>28.704277</td>\n",
       "      <td>58.907658</td>\n",
       "      <td>1755.715009</td>\n",
       "      <td>2</td>\n",
       "      <td>Off</td>\n",
       "      <td>Off</td>\n",
       "      <td>6.764672</td>\n",
       "      <td>Sunday</td>\n",
       "      <td>No</td>\n",
       "      <td>78.270888</td>\n",
       "    </tr>\n",
       "    <tr>\n",
       "      <th>3</th>\n",
       "      <td>1/1/2022 3:00</td>\n",
       "      <td>20.080469</td>\n",
       "      <td>50.371637</td>\n",
       "      <td>1452.316318</td>\n",
       "      <td>1</td>\n",
       "      <td>Off</td>\n",
       "      <td>On</td>\n",
       "      <td>8.623447</td>\n",
       "      <td>Wednesday</td>\n",
       "      <td>No</td>\n",
       "      <td>56.519850</td>\n",
       "    </tr>\n",
       "    <tr>\n",
       "      <th>4</th>\n",
       "      <td>1/1/2022 4:00</td>\n",
       "      <td>23.097359</td>\n",
       "      <td>51.401421</td>\n",
       "      <td>1094.130359</td>\n",
       "      <td>9</td>\n",
       "      <td>On</td>\n",
       "      <td>Off</td>\n",
       "      <td>3.071969</td>\n",
       "      <td>Friday</td>\n",
       "      <td>No</td>\n",
       "      <td>70.811732</td>\n",
       "    </tr>\n",
       "  </tbody>\n",
       "</table>\n",
       "</div>"
      ],
      "text/plain": [
       "     time_of_day  temperature   humidity  SquareFootage  Occupancy HVACUsage  \\\n",
       "0  1/1/2022 0:00    25.139433  43.431581    1565.693999          5        On   \n",
       "1  1/1/2022 1:00    27.731651  54.225919    1411.064918          1        On   \n",
       "2  1/1/2022 2:00    28.704277  58.907658    1755.715009          2       Off   \n",
       "3  1/1/2022 3:00    20.080469  50.371637    1452.316318          1       Off   \n",
       "4  1/1/2022 4:00    23.097359  51.401421    1094.130359          9        On   \n",
       "\n",
       "  LightingUsage  RenewableEnergy  DayOfWeek Holiday  energy_usage  \n",
       "0           Off         2.774699     Monday      No     75.364373  \n",
       "1            On        21.831384   Saturday      No     83.401855  \n",
       "2           Off         6.764672     Sunday      No     78.270888  \n",
       "3            On         8.623447  Wednesday      No     56.519850  \n",
       "4           Off         3.071969     Friday      No     70.811732  "
      ]
     },
     "execution_count": 2,
     "metadata": {},
     "output_type": "execute_result"
    }
   ],
   "source": [
    "# Step 2: Load the dataset (make sure to provide the correct file path)\n",
    "df = pd.read_csv('C:/Users/Rupesh Shinde/Desktop/HVAC/Energy_consumption.csv')\n",
    "\n",
    "# Preview the data\n",
    "df.head()"
   ]
  },
  {
   "cell_type": "code",
   "execution_count": 3,
   "id": "099e47cf-ddd7-4481-96e3-00f2f32d33b9",
   "metadata": {},
   "outputs": [
    {
     "data": {
      "text/html": [
       "<div>\n",
       "<style scoped>\n",
       "    .dataframe tbody tr th:only-of-type {\n",
       "        vertical-align: middle;\n",
       "    }\n",
       "\n",
       "    .dataframe tbody tr th {\n",
       "        vertical-align: top;\n",
       "    }\n",
       "\n",
       "    .dataframe thead th {\n",
       "        text-align: right;\n",
       "    }\n",
       "</style>\n",
       "<table border=\"1\" class=\"dataframe\">\n",
       "  <thead>\n",
       "    <tr style=\"text-align: right;\">\n",
       "      <th></th>\n",
       "      <th>time_of_day</th>\n",
       "      <th>hour</th>\n",
       "    </tr>\n",
       "  </thead>\n",
       "  <tbody>\n",
       "    <tr>\n",
       "      <th>0</th>\n",
       "      <td>2022-01-01 00:00:00</td>\n",
       "      <td>0</td>\n",
       "    </tr>\n",
       "    <tr>\n",
       "      <th>1</th>\n",
       "      <td>2022-01-01 01:00:00</td>\n",
       "      <td>1</td>\n",
       "    </tr>\n",
       "    <tr>\n",
       "      <th>2</th>\n",
       "      <td>2022-01-01 02:00:00</td>\n",
       "      <td>2</td>\n",
       "    </tr>\n",
       "    <tr>\n",
       "      <th>3</th>\n",
       "      <td>2022-01-01 03:00:00</td>\n",
       "      <td>3</td>\n",
       "    </tr>\n",
       "    <tr>\n",
       "      <th>4</th>\n",
       "      <td>2022-01-01 04:00:00</td>\n",
       "      <td>4</td>\n",
       "    </tr>\n",
       "  </tbody>\n",
       "</table>\n",
       "</div>"
      ],
      "text/plain": [
       "          time_of_day  hour\n",
       "0 2022-01-01 00:00:00     0\n",
       "1 2022-01-01 01:00:00     1\n",
       "2 2022-01-01 02:00:00     2\n",
       "3 2022-01-01 03:00:00     3\n",
       "4 2022-01-01 04:00:00     4"
      ]
     },
     "execution_count": 3,
     "metadata": {},
     "output_type": "execute_result"
    }
   ],
   "source": [
    "# Step 3: Convert 'time_of_day' to datetime and extract hour\n",
    "df['time_of_day'] = pd.to_datetime(df['time_of_day'])\n",
    "df['hour'] = df['time_of_day'].dt.hour\n",
    "\n",
    "# Preview to see the changes\n",
    "df[['time_of_day', 'hour']].head()"
   ]
  },
  {
   "cell_type": "code",
   "execution_count": 4,
   "id": "b003d553-1462-4016-b49a-bda41c1158c2",
   "metadata": {},
   "outputs": [
    {
     "data": {
      "text/html": [
       "<div>\n",
       "<style scoped>\n",
       "    .dataframe tbody tr th:only-of-type {\n",
       "        vertical-align: middle;\n",
       "    }\n",
       "\n",
       "    .dataframe tbody tr th {\n",
       "        vertical-align: top;\n",
       "    }\n",
       "\n",
       "    .dataframe thead th {\n",
       "        text-align: right;\n",
       "    }\n",
       "</style>\n",
       "<table border=\"1\" class=\"dataframe\">\n",
       "  <thead>\n",
       "    <tr style=\"text-align: right;\">\n",
       "      <th></th>\n",
       "      <th>HVACUsage</th>\n",
       "      <th>LightingUsage</th>\n",
       "      <th>DayOfWeek</th>\n",
       "      <th>Holiday</th>\n",
       "    </tr>\n",
       "  </thead>\n",
       "  <tbody>\n",
       "    <tr>\n",
       "      <th>0</th>\n",
       "      <td>1</td>\n",
       "      <td>0</td>\n",
       "      <td>1</td>\n",
       "      <td>0</td>\n",
       "    </tr>\n",
       "    <tr>\n",
       "      <th>1</th>\n",
       "      <td>1</td>\n",
       "      <td>1</td>\n",
       "      <td>2</td>\n",
       "      <td>0</td>\n",
       "    </tr>\n",
       "    <tr>\n",
       "      <th>2</th>\n",
       "      <td>0</td>\n",
       "      <td>0</td>\n",
       "      <td>3</td>\n",
       "      <td>0</td>\n",
       "    </tr>\n",
       "    <tr>\n",
       "      <th>3</th>\n",
       "      <td>0</td>\n",
       "      <td>1</td>\n",
       "      <td>6</td>\n",
       "      <td>0</td>\n",
       "    </tr>\n",
       "    <tr>\n",
       "      <th>4</th>\n",
       "      <td>1</td>\n",
       "      <td>0</td>\n",
       "      <td>0</td>\n",
       "      <td>0</td>\n",
       "    </tr>\n",
       "  </tbody>\n",
       "</table>\n",
       "</div>"
      ],
      "text/plain": [
       "   HVACUsage  LightingUsage  DayOfWeek  Holiday\n",
       "0          1              0          1        0\n",
       "1          1              1          2        0\n",
       "2          0              0          3        0\n",
       "3          0              1          6        0\n",
       "4          1              0          0        0"
      ]
     },
     "execution_count": 4,
     "metadata": {},
     "output_type": "execute_result"
    }
   ],
   "source": [
    "# Step 4: Encode categorical fields using LabelEncoder\n",
    "le = LabelEncoder()\n",
    "df['HVACUsage'] = le.fit_transform(df['HVACUsage'])  # 'On' -> 1, 'Off' -> 0\n",
    "df['LightingUsage'] = le.fit_transform(df['LightingUsage'])  # 'On' -> 1, 'Off' -> 0\n",
    "df['DayOfWeek'] = le.fit_transform(df['DayOfWeek'])  # 'Monday' -> 0, 'Sunday' -> 6\n",
    "df['Holiday'] = le.fit_transform(df['Holiday'])  # 'Yes' -> 1, 'No' -> 0\n",
    "\n",
    "# Check the data to ensure encoding worked\n",
    "df[['HVACUsage', 'LightingUsage', 'DayOfWeek', 'Holiday']].head()\n"
   ]
  },
  {
   "cell_type": "code",
   "execution_count": 5,
   "id": "e10a81a1-bf95-4f98-970e-c6b14a2bd651",
   "metadata": {},
   "outputs": [
    {
     "data": {
      "text/plain": [
       "(   temperature   humidity  SquareFootage  Occupancy  HVACUsage  LightingUsage  \\\n",
       " 0    25.139433  43.431581    1565.693999          5          1              0   \n",
       " 1    27.731651  54.225919    1411.064918          1          1              1   \n",
       " 2    28.704277  58.907658    1755.715009          2          0              0   \n",
       " 3    20.080469  50.371637    1452.316318          1          0              1   \n",
       " 4    23.097359  51.401421    1094.130359          9          1              0   \n",
       " \n",
       "    RenewableEnergy  DayOfWeek  Holiday  hour  \n",
       " 0         2.774699          1        0     0  \n",
       " 1        21.831384          2        0     1  \n",
       " 2         6.764672          3        0     2  \n",
       " 3         8.623447          6        0     3  \n",
       " 4         3.071969          0        0     4  ,\n",
       " 0    75.364373\n",
       " 1    83.401855\n",
       " 2    78.270888\n",
       " 3    56.519850\n",
       " 4    70.811732\n",
       " Name: energy_usage, dtype: float64)"
      ]
     },
     "execution_count": 5,
     "metadata": {},
     "output_type": "execute_result"
    }
   ],
   "source": [
    "# Step 5: Define features and target\n",
    "X = df[['temperature', 'humidity', 'SquareFootage', 'Occupancy', 'HVACUsage', 'LightingUsage', \n",
    "        'RenewableEnergy', 'DayOfWeek', 'Holiday', 'hour']]\n",
    "y = df['energy_usage']\n",
    "\n",
    "# Show the first few rows of X and y\n",
    "X.head(), y.head()\n"
   ]
  },
  {
   "cell_type": "code",
   "execution_count": 6,
   "id": "d7816f25-86d7-4d8b-bb2b-f1e1560d114e",
   "metadata": {},
   "outputs": [
    {
     "data": {
      "text/plain": [
       "((800, 10), (200, 10), (800,), (200,))"
      ]
     },
     "execution_count": 6,
     "metadata": {},
     "output_type": "execute_result"
    }
   ],
   "source": [
    "# Step 6: Split data into training and testing sets\n",
    "X_train, X_test, y_train, y_test = train_test_split(X, y, test_size=0.2, random_state=42)\n",
    "\n",
    "# Check the shapes of training and testing data\n",
    "X_train.shape, X_test.shape, y_train.shape, y_test.shape\n"
   ]
  },
  {
   "cell_type": "code",
   "execution_count": 7,
   "id": "4ccfa4cb-9818-4657-800a-6cf5e418b42d",
   "metadata": {},
   "outputs": [
    {
     "name": "stdout",
     "output_type": "stream",
     "text": [
      "Model coefficients: [ 2.00080531e+00 -3.60393338e-02 -4.13522528e-04  4.99162907e-01\n",
      "  4.49419039e+00  1.65329255e+00  9.63254945e-02 -2.00198046e-02\n",
      "  5.26916333e-01 -3.08311090e-02]\n",
      "Model intercept: 22.708770765743914\n"
     ]
    }
   ],
   "source": [
    "# Step 7: Create and train the Linear Regression model\n",
    "model = LinearRegression()\n",
    "model.fit(X_train, y_train)\n",
    "\n",
    "# Check the coefficients\n",
    "print(\"Model coefficients:\", model.coef_)\n",
    "print(\"Model intercept:\", model.intercept_)\n"
   ]
  },
  {
   "cell_type": "code",
   "execution_count": 8,
   "id": "9e1d1c6e-9031-4969-97d1-86a5d29321db",
   "metadata": {},
   "outputs": [
    {
     "data": {
      "text/html": [
       "<div>\n",
       "<style scoped>\n",
       "    .dataframe tbody tr th:only-of-type {\n",
       "        vertical-align: middle;\n",
       "    }\n",
       "\n",
       "    .dataframe tbody tr th {\n",
       "        vertical-align: top;\n",
       "    }\n",
       "\n",
       "    .dataframe thead th {\n",
       "        text-align: right;\n",
       "    }\n",
       "</style>\n",
       "<table border=\"1\" class=\"dataframe\">\n",
       "  <thead>\n",
       "    <tr style=\"text-align: right;\">\n",
       "      <th></th>\n",
       "      <th>Actual</th>\n",
       "      <th>Predicted</th>\n",
       "    </tr>\n",
       "  </thead>\n",
       "  <tbody>\n",
       "    <tr>\n",
       "      <th>521</th>\n",
       "      <td>86.920611</td>\n",
       "      <td>83.322856</td>\n",
       "    </tr>\n",
       "    <tr>\n",
       "      <th>737</th>\n",
       "      <td>88.351606</td>\n",
       "      <td>81.550354</td>\n",
       "    </tr>\n",
       "    <tr>\n",
       "      <th>740</th>\n",
       "      <td>79.431363</td>\n",
       "      <td>75.946292</td>\n",
       "    </tr>\n",
       "    <tr>\n",
       "      <th>660</th>\n",
       "      <td>90.009188</td>\n",
       "      <td>88.394251</td>\n",
       "    </tr>\n",
       "    <tr>\n",
       "      <th>411</th>\n",
       "      <td>83.891100</td>\n",
       "      <td>75.570099</td>\n",
       "    </tr>\n",
       "  </tbody>\n",
       "</table>\n",
       "</div>"
      ],
      "text/plain": [
       "        Actual  Predicted\n",
       "521  86.920611  83.322856\n",
       "737  88.351606  81.550354\n",
       "740  79.431363  75.946292\n",
       "660  90.009188  88.394251\n",
       "411  83.891100  75.570099"
      ]
     },
     "execution_count": 8,
     "metadata": {},
     "output_type": "execute_result"
    }
   ],
   "source": [
    "# Step 8: Predict on the test data\n",
    "y_pred = model.predict(X_test)\n",
    "\n",
    "# Display first few actual vs predicted values\n",
    "comparison = pd.DataFrame({'Actual': y_test, 'Predicted': y_pred})\n",
    "comparison.head()\n"
   ]
  },
  {
   "cell_type": "code",
   "execution_count": 9,
   "id": "c1547769-7ab0-457e-bf3f-0c8194c2e37b",
   "metadata": {},
   "outputs": [
    {
     "data": {
      "image/png": "[encoded data removed]",
      "text/plain": [
       "<Figure size 1000x600 with 1 Axes>"
      ]
     },
     "metadata": {},
     "output_type": "display_data"
    }
   ],
   "source": [
    "# Scatter plot: Actual vs Predicted Energy Usage\n",
    "plt.figure(figsize=(10, 6))\n",
    "plt.scatter(y_test, y_pred, color='blue', alpha=0.5, label='Predicted vs Actual')\n",
    "plt.plot([y_test.min(), y_test.max()], [y_test.min(), y_test.max()], color='red', linewidth=2, label='Ideal Prediction')\n",
    "plt.xlabel('Actual Energy Usage')\n",
    "plt.ylabel('Predicted Energy Usage')\n",
    "plt.title('Actual vs Predicted Energy Usage')\n",
    "plt.legend()\n",
    "plt.grid(True)\n",
    "plt.show()\n"
   ]
  },
  {
   "cell_type": "code",
   "execution_count": 10,
   "id": "f57f430b-62ee-4805-b677-dc05dd212b30",
   "metadata": {},
   "outputs": [
    {
     "data": {
      "image/png": "[encoded data removed]",
      "text/plain": [
       "<Figure size 1000x600 with 1 Axes>"
      ]
     },
     "metadata": {},
     "output_type": "display_data"
    }
   ],
   "source": [
    "# Histogram of predicted energy usage\n",
    "plt.figure(figsize=(10, 6))\n",
    "plt.hist(y_pred, bins=20, color='orange', alpha=0.7)\n",
    "plt.title('Distribution of Predicted Energy Usage')\n",
    "plt.xlabel('Energy Usage (kWh)')\n",
    "plt.ylabel('Frequency')\n",
    "plt.grid(True)\n",
    "plt.show()\n"
   ]
  },
  {
   "cell_type": "code",
   "execution_count": null,
   "id": "e628e59a-3be5-46f9-890d-9bbc4208b0a2",
   "metadata": {},
   "outputs": [],
   "source": []
  }
 ],
 "metadata": {
  "kernelspec": {
   "display_name": "Python 3 (ipykernel)",
   "language": "python",
   "name": "python3"
  },
  "language_info": {
   "codemirror_mode": {
    "name": "ipython",
    "version": 3
   },
   "file_extension": ".py",
   "mimetype": "text/x-python",
   "name": "python",
   "nbconvert_exporter": "python",
   "pygments_lexer": "ipython3",
   "version": "3.11.7"
  }
 },
 "nbformat": 4,
 "nbformat_minor": 5
}
